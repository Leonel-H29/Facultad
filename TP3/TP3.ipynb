{
  "nbformat": 4,
  "nbformat_minor": 0,
  "metadata": {
    "colab": {
      "name": "TP3.ipynb",
      "provenance": [],
      "authorship_tag": "ABX9TyMpSoB1reT2/RBSjWD6LQkf",
      "include_colab_link": true
    },
    "kernelspec": {
      "name": "python3",
      "display_name": "Python 3"
    },
    "language_info": {
      "name": "python"
    }
  },
  "cells": [
    {
      "cell_type": "markdown",
      "metadata": {
        "id": "view-in-github",
        "colab_type": "text"
      },
      "source": [
        "<a href=\"https://colab.research.google.com/github/Leonel-H29/Metodos-Numericos-II/blob/master/TP3/TP3.ipynb\" target=\"_parent\"><img src=\"https://colab.research.google.com/assets/colab-badge.svg\" alt=\"Open In Colab\"/></a>"
      ]
    },
    {
      "cell_type": "markdown",
      "metadata": {
        "id": "mNyC2QNYC71W"
      },
      "source": [
        "# PUNTO 2\n"
      ]
    },
    {
      "cell_type": "code",
      "metadata": {
        "id": "7qoheketC2gg"
      },
      "source": [
        "import csv\n",
        "from matplotlib import pyplot as plt\n",
        "import numpy as np\n",
        "import pandas as pd\n",
        "\n",
        "\"\"\"\n",
        "def LeerCSV(file):\n",
        "    data = []\n",
        "    with open(file) as File:\n",
        "        reader=csv.reader(File,delimiter=',',quotechar=',',quoting=csv.QUOTE_MINIMAL)\n",
        "        for row in reader:\n",
        "            data_row=list(row)\n",
        "            data.append(data_row)\n",
        "    #pass\n",
        "    return data\n",
        "\"\"\"\n",
        "def LeerCSV(url):\n",
        "    data = pd.read_csv(url, index_col=None) \n",
        "    return data.to_numpy()\n",
        "\n",
        "\n",
        "def Graficar(data):\n",
        "    x=np.array(data[:,0])\n",
        "    y=np.array(data[:,1])\n",
        "\n",
        "    #Grafico \n",
        "    plt.figure(figsize=(16,8))\n",
        "    plt.plot(x,y,color='green')\n",
        "    plt.show()\n",
        "\n",
        "    fft = np.fft.fft(y)\n",
        "    freq = np.fft.fftfreq(len(y))\n",
        "\n",
        "    #Grafico | Frecuencia\n",
        "    plt.figure(figsize=(16,8))\n",
        "    plt.ylabel(\"Amplitude\")\n",
        "    plt.xlabel(\"Frequency [Hz]\")\n",
        "    plt.stem(freq,abs(fft.real),markerfmt=\" \")\n",
        "    plt.show()\n",
        "    \n",
        "   \n",
        "#path = 'D:\\\\Leo\\\\Facultad\\\\Trabajos\\\\3º Año\\\\Metodos Numericos II\\\\Metodos-Numericos-II\\\\TP3\\\\'\n",
        "file1 = 'https://drive.google.com/file/d/19D_87kWtGLf_yS3n9JLDIgsydZSghaTv/view?usp=sharing'\n",
        "file2 = 'https://drive.google.com/file/d/1qvg-BAabpQscJW7ctVVwg75nXxLJfb7o/view?usp=sharing'\n",
        "\n",
        "muestra1 = LeerCSV(file1)\n",
        "muestra2 = LeerCSV(file2)\n",
        "#print(muestra1[0][0])\n",
        "#print(\"------------------------\")\n",
        "#print(muestra2)\n",
        "\n",
        "print(\"GRAFICOS MUESTRA 1\")\n",
        "Graficar(muestra1)\n",
        "print(\"------------------------\")\n",
        "print(\"GRAFICOS MUESTRA 2\")\n",
        "Graficar(muestra2)\n",
        "\n",
        "\n",
        "    \n",
        "\n"
      ],
      "execution_count": null,
      "outputs": []
    },
    {
      "cell_type": "code",
      "metadata": {
        "id": "WxzveYKpC7gH"
      },
      "source": [
        ""
      ],
      "execution_count": null,
      "outputs": []
    }
  ]
}