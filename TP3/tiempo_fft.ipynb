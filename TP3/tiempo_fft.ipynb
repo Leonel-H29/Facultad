{
  "nbformat": 4,
  "nbformat_minor": 0,
  "metadata": {
    "colab": {
      "name": "tiempo_fft.ipynb",
      "provenance": [],
      "collapsed_sections": []
    },
    "kernelspec": {
      "name": "python3",
      "display_name": "Python 3"
    }
  },
  "cells": [
    {
      "cell_type": "code",
      "metadata": {
        "id": "nHol_pjejwJY",
        "colab": {
          "base_uri": "https://localhost:8080/"
        },
        "outputId": "cc7eb6e5-75fd-47c4-975c-bc5bfb10cc2c"
      },
      "source": [
        "import numpy as np    \n",
        "import time\n",
        "\n",
        "a = np.zeros(166464)\n",
        "start = time.time()\n",
        "audio_fft = np.fft.fft(a,len(a))                          \n",
        "print(\"tiempo: %fs\"%(time.time() -start))\n",
        "#print(f\"audio_fft: {audio_fft}\")\n",
        "\n",
        "a = np.zeros(166400)\n",
        "start = time.time()\n",
        "audio_fft = np.fft.fft(a,len(a))                          \n",
        "print(\"tiempo: %fs\"%(time.time() -start))\n",
        "#print(f\"audio_fft: {audio_fft}\")\n",
        "\n",
        "\n",
        "a = np.zeros(2**16)\n",
        "start = time.time()\n",
        "audio_fft = np.fft.fft(a,len(a))                          \n",
        "print(\"tiempo: %fs\"%(time.time() -start))\n",
        "#print(f\"audio_fft: {audio_fft}\")\n",
        "\n",
        "\n",
        "a = np.zeros(2**17)\n",
        "start = time.time()\n",
        "audio_fft = np.fft.fft(a,len(a))                          \n",
        "print(\"tiempo: %fs\"%(time.time() -start))\n",
        "#print(f\"audio_fft: {audio_fft}\")\n",
        "\n",
        "\n",
        "a = np.zeros(1+2**16)\n",
        "start = time.time()\n",
        "audio_fft = np.fft.fft(a,len(a))                          \n",
        "print(\"tiempo: %fs\"%(time.time() -start))\n",
        "#print(f\"audio_fft: {audio_fft}\")\n"
      ],
      "execution_count": 1,
      "outputs": [
        {
          "output_type": "stream",
          "name": "stdout",
          "text": [
            "tiempo: 0.014143s\n",
            "tiempo: 0.010012s\n",
            "tiempo: 0.002486s\n",
            "tiempo: 0.004954s\n",
            "tiempo: 0.011922s\n"
          ]
        }
      ]
    },
    {
      "cell_type": "markdown",
      "metadata": {
        "id": "h-ZFv3DfAGAD"
      },
      "source": [
        "#Respuesta\n",
        "\n",
        "\n",
        "> Como el algoritmo esta implementado para potencias de 2 tarda menos, y cuando no tengo una potencia de 2 se rellena con 0, por lo cual tiene mas costo y es mas lento\n",
        "\n"
      ]
    }
  ]
}