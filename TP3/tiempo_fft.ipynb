{
  "nbformat": 4,
  "nbformat_minor": 0,
  "metadata": {
    "colab": {
      "name": "tiempo_fft.ipynb",
      "provenance": [],
      "collapsed_sections": []
    },
    "kernelspec": {
      "name": "python3",
      "display_name": "Python 3"
    }
  },
  "cells": [
    {
      "cell_type": "code",
      "metadata": {
        "id": "nHol_pjejwJY",
        "outputId": "c8232ee6-a5fd-400c-9934-db92776fca3e",
        "colab": {
          "base_uri": "https://localhost:8080/"
        }
      },
      "source": [
        "import numpy as np    \n",
        "import time\n",
        "\n",
        "a = np.zeros(166464)\n",
        "start = time.time()\n",
        "audio_fft = np.fft.fft(a,len(a))                          \n",
        "print(\"tiempo: %fs\"%(time.time() -start))\n",
        "print(f\"audio_fft: {audio_fft}\")\n",
        "\n",
        "a = np.zeros(166400)\n",
        "start = time.time()\n",
        "audio_fft = np.fft.fft(a,len(a))                          \n",
        "print(\"tiempo: %fs\"%(time.time() -start))\n",
        "print(f\"audio_fft: {audio_fft}\")\n",
        "\n",
        "\n",
        "a = np.zeros(2**16)\n",
        "start = time.time()\n",
        "audio_fft = np.fft.fft(a,len(a))                          \n",
        "print(\"tiempo: %fs\"%(time.time() -start))\n",
        "print(f\"audio_fft: {audio_fft}\")\n",
        "\n",
        "\n",
        "a = np.zeros(2**17)\n",
        "start = time.time()\n",
        "audio_fft = np.fft.fft(a,len(a))                          \n",
        "print(\"tiempo: %fs\"%(time.time() -start))\n",
        "print(f\"audio_fft: {audio_fft}\")\n",
        "\n",
        "\n",
        "a = np.zeros(1+2**16)\n",
        "start = time.time()\n",
        "audio_fft = np.fft.fft(a,len(a))                          \n",
        "print(\"tiempo: %fs\"%(time.time() -start))\n",
        "print(f\"audio_fft: {audio_fft}\")\n"
      ],
      "execution_count": 4,
      "outputs": [
        {
          "output_type": "stream",
          "name": "stdout",
          "text": [
            "tiempo: 0.007705s\n",
            "audio_fft: [0.+0.j 0.+0.j 0.+0.j ... 0.+0.j 0.+0.j 0.+0.j]\n",
            "tiempo: 0.006401s\n",
            "audio_fft: [0.+0.j 0.+0.j 0.+0.j ... 0.+0.j 0.+0.j 0.+0.j]\n",
            "tiempo: 0.002278s\n",
            "audio_fft: [0.+0.j 0.+0.j 0.+0.j ... 0.+0.j 0.+0.j 0.+0.j]\n",
            "tiempo: 0.004924s\n",
            "audio_fft: [0.+0.j 0.+0.j 0.+0.j ... 0.+0.j 0.+0.j 0.+0.j]\n",
            "tiempo: 0.010806s\n",
            "audio_fft: [ 0.+0.j  0.+0.j  0.+0.j ... -0.+0.j -0.+0.j -0.+0.j]\n"
          ]
        }
      ]
    }
  ]
}