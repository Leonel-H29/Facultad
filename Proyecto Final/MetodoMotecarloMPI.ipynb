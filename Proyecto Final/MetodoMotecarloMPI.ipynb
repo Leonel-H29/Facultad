{
  "nbformat": 4,
  "nbformat_minor": 0,
  "metadata": {
    "colab": {
      "name": "MetodoMotecarloMPI.ipynb",
      "provenance": [],
      "collapsed_sections": [],
      "authorship_tag": "ABX9TyNCON0z/hMRTIqkUlLQbCNf",
      "include_colab_link": true
    },
    "kernelspec": {
      "name": "python3",
      "display_name": "Python 3"
    },
    "language_info": {
      "name": "python"
    }
  },
  "cells": [
    {
      "cell_type": "markdown",
      "metadata": {
        "id": "view-in-github",
        "colab_type": "text"
      },
      "source": [
        "<a href=\"https://colab.research.google.com/github/Leonel-H29/Metodos-Numericos-II/blob/master/Proyecto%20Final/MetodoMotecarloMPI.ipynb\" target=\"_parent\"><img src=\"https://colab.research.google.com/assets/colab-badge.svg\" alt=\"Open In Colab\"/></a>"
      ]
    },
    {
      "cell_type": "code",
      "metadata": {
        "colab": {
          "base_uri": "https://localhost:8080/"
        },
        "id": "W_w948r8FU34",
        "outputId": "8cb9c1c8-5a8f-4170-bcf9-276f012aab2f"
      },
      "source": [
        "# 1) instalacíon de Open MPI y paquetes necesarios (se instalarán sólo los faltantes)\n",
        "!sudo apt-get install -y autotools-dev g++ build-essential openmpi-bin openmpi-doc libopenmpi-dev\n"
      ],
      "execution_count": 1,
      "outputs": [
        {
          "output_type": "stream",
          "name": "stdout",
          "text": [
            "Reading package lists... Done\n",
            "Building dependency tree       \n",
            "Reading state information... Done\n",
            "build-essential is already the newest version (12.4ubuntu1).\n",
            "libopenmpi-dev is already the newest version (2.1.1-8).\n",
            "openmpi-bin is already the newest version (2.1.1-8).\n",
            "openmpi-bin set to manually installed.\n",
            "g++ is already the newest version (4:7.4.0-1ubuntu2.3).\n",
            "g++ set to manually installed.\n",
            "The following NEW packages will be installed:\n",
            "  autotools-dev openmpi-doc\n",
            "0 upgraded, 2 newly installed, 0 to remove and 37 not upgraded.\n",
            "Need to get 737 kB of archives.\n",
            "After this operation, 1,316 kB of additional disk space will be used.\n",
            "Get:1 http://archive.ubuntu.com/ubuntu bionic/main amd64 autotools-dev all 20180224.1 [39.6 kB]\n",
            "Get:2 http://archive.ubuntu.com/ubuntu bionic/universe amd64 openmpi-doc all 2.1.1-8 [697 kB]\n",
            "Fetched 737 kB in 0s (7,345 kB/s)\n",
            "debconf: unable to initialize frontend: Dialog\n",
            "debconf: (No usable dialog-like program is installed, so the dialog based frontend cannot be used. at /usr/share/perl5/Debconf/FrontEnd/Dialog.pm line 76, <> line 2.)\n",
            "debconf: falling back to frontend: Readline\n",
            "debconf: unable to initialize frontend: Readline\n",
            "debconf: (This frontend requires a controlling tty.)\n",
            "debconf: falling back to frontend: Teletype\n",
            "dpkg-preconfigure: unable to re-open stdin: \n",
            "Selecting previously unselected package autotools-dev.\n",
            "(Reading database ... 155222 files and directories currently installed.)\n",
            "Preparing to unpack .../autotools-dev_20180224.1_all.deb ...\n",
            "Unpacking autotools-dev (20180224.1) ...\n",
            "Selecting previously unselected package openmpi-doc.\n",
            "Preparing to unpack .../openmpi-doc_2.1.1-8_all.deb ...\n",
            "Unpacking openmpi-doc (2.1.1-8) ...\n",
            "Setting up openmpi-doc (2.1.1-8) ...\n",
            "Setting up autotools-dev (20180224.1) ...\n",
            "Processing triggers for man-db (2.8.3-2ubuntu0.1) ...\n"
          ]
        }
      ]
    },
    {
      "cell_type": "code",
      "metadata": {
        "colab": {
          "base_uri": "https://localhost:8080/"
        },
        "id": "rN2X-wEdGcdk",
        "outputId": "21dc780d-012d-4a10-8276-829dcd15c033"
      },
      "source": [
        "# 2) Clono el repositorio de GitHub en el que poseo los archivos\n",
        "!git clone https://github.com/Leonel-H29/Metodos-Numericos-II.git"
      ],
      "execution_count": 2,
      "outputs": [
        {
          "output_type": "stream",
          "name": "stdout",
          "text": [
            "Cloning into 'Metodos-Numericos-II'...\n",
            "remote: Enumerating objects: 479, done.\u001b[K\n",
            "remote: Counting objects: 100% (479/479), done.\u001b[K\n",
            "remote: Compressing objects: 100% (410/410), done.\u001b[K\n",
            "remote: Total 479 (delta 248), reused 173 (delta 66), pack-reused 0\u001b[K\n",
            "Receiving objects: 100% (479/479), 30.62 MiB | 7.80 MiB/s, done.\n",
            "Resolving deltas: 100% (248/248), done.\n"
          ]
        }
      ]
    },
    {
      "cell_type": "code",
      "metadata": {
        "colab": {
          "base_uri": "https://localhost:8080/"
        },
        "id": "j8oAdpcRJ2Ge",
        "outputId": "59197c13-5585-4d9c-8605-0ad671d0b7fe"
      },
      "source": [
        "# 3) Posicionarse sobre la carpeta de trabajo y listar los archivos\n",
        "%cd \"/content/Metodos-Numericos-II/Proyecto Final\"\n",
        "%ls\n",
        "!git pull"
      ],
      "execution_count": 5,
      "outputs": [
        {
          "output_type": "stream",
          "name": "stdout",
          "text": [
            "/content/Metodos-Numericos-II/Proyecto Final\n",
            " MetodoMontecarlo_Pi.ipynb   montecarlo_pi.c\n",
            " \u001b[0m\u001b[01;32mmontecarlo_pi\u001b[0m*             'Proyecto Final - Herrera Leonel Esteban.docx'\n",
            "remote: Enumerating objects: 7, done.\u001b[K\n",
            "remote: Counting objects: 100% (7/7), done.\u001b[K\n",
            "remote: Compressing objects: 100% (1/1), done.\u001b[K\n",
            "remote: Total 4 (delta 3), reused 4 (delta 3), pack-reused 0\u001b[K\n",
            "Unpacking objects: 100% (4/4), done.\n",
            "From https://github.com/Leonel-H29/Metodos-Numericos-II\n",
            "   daba8e5..88507a0  master     -> origin/master\n",
            "Updating daba8e5..88507a0\n",
            "Fast-forward\n",
            " Proyecto Final/montecarlo_pi.c | 3 \u001b[32m++\u001b[m\u001b[31m-\u001b[m\n",
            " 1 file changed, 2 insertions(+), 1 deletion(-)\n"
          ]
        }
      ]
    },
    {
      "cell_type": "code",
      "metadata": {
        "id": "ZZ48IHa5KBPh"
      },
      "source": [
        "#4) Compilar el código \n",
        "!mpicc montecarlo_pi.c -o montecarlo_pi\n",
        "  "
      ],
      "execution_count": 6,
      "outputs": []
    },
    {
      "cell_type": "code",
      "metadata": {
        "colab": {
          "base_uri": "https://localhost:8080/"
        },
        "id": "xRsajZvsKRfU",
        "outputId": "b3c5980f-7782-4842-d4bf-238c756af8fb"
      },
      "source": [
        "!time mpirun --allow-run-as-root -np 1 montecarlo_pi  "
      ],
      "execution_count": 7,
      "outputs": [
        {
          "output_type": "stream",
          "name": "stdout",
          "text": [
            "Cantidad de Iteraciones = 0, Pi estimado: -nan \n",
            "\n",
            "real\t0m0.412s\n",
            "user\t0m0.037s\n",
            "sys\t0m0.070s\n"
          ]
        }
      ]
    },
    {
      "cell_type": "code",
      "metadata": {
        "colab": {
          "base_uri": "https://localhost:8080/"
        },
        "id": "to5nMmRyHyRR",
        "outputId": "ecf337a7-b3a9-4261-b06a-39a1b84b5901"
      },
      "source": [
        "!time mpirun --allow-run-as-root -np 10 montecarlo_pi  "
      ],
      "execution_count": 8,
      "outputs": [
        {
          "output_type": "stream",
          "name": "stdout",
          "text": [
            "Proceso 5 enviando un conteo total de = 78762 al proceso 0\n",
            "Proceso 3 enviando un conteo total de = 78510 al proceso 0\n",
            "Proceso 9 enviando un conteo total de = 78560 al proceso 0\n",
            "Proceso 4 enviando un conteo total de = 78481 al proceso 0\n",
            "Proceso 1 enviando un conteo total de = 78538 al proceso 0\n",
            "Proceso 8 enviando un conteo total de = 78465 al proceso 0\n",
            "Proceso 6 enviando un conteo total de = 78633 al proceso 0\n",
            "Proceso 7 enviando un conteo total de = 78437 al proceso 0\n",
            "Proceso 2 enviando un conteo total de = 78346 al proceso 0\n",
            "Cantidad de Iteraciones = 900000, Pi estimado: 3.14103 \n",
            "\n",
            "real\t0m0.388s\n",
            "user\t0m0.283s\n",
            "sys\t0m0.254s\n"
          ]
        }
      ]
    },
    {
      "cell_type": "code",
      "metadata": {
        "colab": {
          "base_uri": "https://localhost:8080/"
        },
        "id": "ym1--rwGH5f5",
        "outputId": "c6061057-f75f-4689-c4e5-f2eb2ce34650"
      },
      "source": [
        "!time mpirun --allow-run-as-root -np 20 montecarlo_pi  "
      ],
      "execution_count": 9,
      "outputs": [
        {
          "output_type": "stream",
          "name": "stdout",
          "text": [
            "Proceso 13 enviando un conteo total de = 78640 al proceso 0\n",
            "Proceso 17 enviando un conteo total de = 78655 al proceso 0\n",
            "Proceso 9 enviando un conteo total de = 78560 al proceso 0\n",
            "Proceso 2 enviando un conteo total de = 78346 al proceso 0\n",
            "Proceso 18 enviando un conteo total de = 78455 al proceso 0\n",
            "Proceso 7 enviando un conteo total de = 78437 al proceso 0\n",
            "Proceso 11 enviando un conteo total de = 78521 al proceso 0\n",
            "Proceso 16 enviando un conteo total de = 78707 al proceso 0\n",
            "Proceso 10 enviando un conteo total de = 78537 al proceso 0\n",
            "Proceso 5 enviando un conteo total de = 78762 al proceso 0\n",
            "Proceso 12 enviando un conteo total de = 78492 al proceso 0\n",
            "Proceso 14 enviando un conteo total de = 78424 al proceso 0\n",
            "Proceso 1 enviando un conteo total de = 78538 al proceso 0\n",
            "Proceso 8 enviando un conteo total de = 78465 al proceso 0\n",
            "Proceso 19 enviando un conteo total de = 78526 al proceso 0\n",
            "Proceso 4 enviando un conteo total de = 78481 al proceso 0\n",
            "Proceso 3 enviando un conteo total de = 78510 al proceso 0\n",
            "Proceso 6 enviando un conteo total de = 78633 al proceso 0\n",
            "Proceso 15 enviando un conteo total de = 78485 al proceso 0\n",
            "Cantidad de Iteraciones = 1900000, Pi estimado: 3.14142 \n",
            "\n",
            "real\t0m0.692s\n",
            "user\t0m0.661s\n",
            "sys\t0m0.503s\n"
          ]
        }
      ]
    },
    {
      "cell_type": "code",
      "metadata": {
        "colab": {
          "base_uri": "https://localhost:8080/"
        },
        "id": "tEMFPpyLH-9M",
        "outputId": "b654ae2a-8f0c-4076-e6c0-70eab7af35f9"
      },
      "source": [
        "!time mpirun --allow-run-as-root -np 50 montecarlo_pi  "
      ],
      "execution_count": 10,
      "outputs": [
        {
          "output_type": "stream",
          "name": "stdout",
          "text": [
            "Proceso 32 enviando un conteo total de = 78546 al proceso 0\n",
            "Proceso 1 enviando un conteo total de = 78538 al proceso 0\n",
            "Proceso 40 enviando un conteo total de = 78682 al proceso 0\n",
            "Proceso 12 enviando un conteo total de = 78492 al proceso 0\n",
            "Proceso 4 enviando un conteo total de = 78481 al proceso 0\n",
            "Proceso 37 enviando un conteo total de = 78783 al proceso 0\n",
            "Proceso 41 enviando un conteo total de = 78524 al proceso 0\n",
            "Proceso 8 enviando un conteo total de = 78465 al proceso 0\n",
            "Proceso 22 enviando un conteo total de = 78691 al proceso 0\n",
            "Proceso 27 enviando un conteo total de = 78566 al proceso 0\n",
            "Proceso 30 enviando un conteo total de = 78412 al proceso 0\n",
            "Proceso 34 enviando un conteo total de = 78665 al proceso 0\n",
            "Proceso 38 enviando un conteo total de = 78509 al proceso 0\n",
            "Proceso 10 enviando un conteo total de = 78537 al proceso 0\n",
            "Proceso 42 enviando un conteo total de = 78435 al proceso 0\n",
            "Proceso 9 enviando un conteo total de = 78560 al proceso 0\n",
            "Proceso 33 enviando un conteo total de = 78461 al proceso 0\n",
            "Proceso 23 enviando un conteo total de = 78807 al proceso 0\n",
            "Proceso 17 enviando un conteo total de = 78655 al proceso 0\n",
            "Proceso 46 enviando un conteo total de = 78531 al proceso 0\n",
            "Proceso 48 enviando un conteo total de = 78811 al proceso 0\n",
            "Proceso 47 enviando un conteo total de = 78806 al proceso 0\n",
            "Proceso 45 enviando un conteo total de = 78563 al proceso 0\n",
            "Proceso 39 enviando un conteo total de = 78288 al proceso 0\n",
            "Proceso 20 enviando un conteo total de = 78490 al proceso 0\n",
            "Proceso 7 enviando un conteo total de = 78437 al proceso 0\n",
            "Proceso 16 enviando un conteo total de = 78707 al proceso 0\n",
            "Proceso 43 enviando un conteo total de = 78725 al proceso 0\n",
            "Proceso 36 enviando un conteo total de = 78304 al proceso 0\n",
            "Proceso 44 enviando un conteo total de = 78522 al proceso 0\n",
            "Proceso 26 enviando un conteo total de = 78720 al proceso 0\n",
            "Proceso 24 enviando un conteo total de = 78600 al proceso 0\n",
            "Proceso 19 enviando un conteo total de = 78526 al proceso 0\n",
            "Proceso 2 enviando un conteo total de = 78346 al proceso 0\n",
            "Proceso 29 enviando un conteo total de = 78469 al proceso 0\n",
            "Proceso 21 enviando un conteo total de = 78453 al proceso 0\n",
            "Proceso 13 enviando un conteo total de = 78640 al proceso 0\n",
            "Proceso 3 enviando un conteo total de = 78510 al proceso 0\n",
            "Proceso 6 enviando un conteo total de = 78633 al proceso 0\n",
            "Proceso 49 enviando un conteo total de = 78510 al proceso 0\n",
            "Proceso 35 enviando un conteo total de = 78320 al proceso 0\n",
            "Proceso 31 enviando un conteo total de = 78483 al proceso 0\n",
            "Proceso 28 enviando un conteo total de = 78575 al proceso 0\n",
            "Proceso 5 enviando un conteo total de = 78762 al proceso 0\n",
            "Proceso 18 enviando un conteo total de = 78455 al proceso 0\n",
            "Proceso 11 enviando un conteo total de = 78521 al proceso 0\n",
            "Proceso 25 enviando un conteo total de = 78401 al proceso 0\n",
            "Proceso 15 enviando un conteo total de = 78485 al proceso 0\n",
            "Proceso 14 enviando un conteo total de = 78424 al proceso 0\n",
            "Cantidad de Iteraciones = 4900000, Pi estimado: 3.1419 \n",
            "\n",
            "real\t0m3.958s\n",
            "user\t0m4.451s\n",
            "sys\t0m3.137s\n"
          ]
        }
      ]
    },
    {
      "cell_type": "code",
      "metadata": {
        "colab": {
          "base_uri": "https://localhost:8080/"
        },
        "id": "jmdAM0hWIPkN",
        "outputId": "d606ab75-2c13-4ca5-8213-c936e5791d93"
      },
      "source": [
        "!time mpirun --allow-run-as-root -np 100 montecarlo_pi  "
      ],
      "execution_count": 11,
      "outputs": [
        {
          "output_type": "stream",
          "name": "stdout",
          "text": [
            "Proceso 54 enviando un conteo total de = 78664 al proceso 0\n",
            "Proceso 16 enviando un conteo total de = 78707 al proceso 0\n",
            "Proceso 39 enviando un conteo total de = 78288 al proceso 0\n",
            "Proceso 15 enviando un conteo total de = 78485 al proceso 0\n",
            "Proceso 8 enviando un conteo total de = 78465 al proceso 0\n",
            "Proceso 62 enviando un conteo total de = 78390 al proceso 0\n",
            "Proceso 64 enviando un conteo total de = 78449 al proceso 0\n",
            "Proceso 49 enviando un conteo total de = 78510 al proceso 0\n",
            "Proceso 89 enviando un conteo total de = 78474 al proceso 0\n",
            "Proceso 19 enviando un conteo total de = 78526 al proceso 0\n",
            "Proceso 75 enviando un conteo total de = 78628 al proceso 0\n",
            "Proceso 94 enviando un conteo total de = 78440 al proceso 0\n",
            "Proceso 97 enviando un conteo total de = 78769 al proceso 0\n",
            "Proceso 51 enviando un conteo total de = 78616 al proceso 0\n",
            "Proceso 92 enviando un conteo total de = 78139 al proceso 0\n",
            "Proceso 38 enviando un conteo total de = 78509 al proceso 0\n",
            "Proceso 98 enviando un conteo total de = 78574 al proceso 0\n",
            "Proceso 45 enviando un conteo total de = 78563 al proceso 0\n",
            "Proceso 73 enviando un conteo total de = 78402 al proceso 0\n",
            "Proceso 60 enviando un conteo total de = 78694 al proceso 0\n",
            "Proceso 69 enviando un conteo total de = 78451 al proceso 0\n",
            "Proceso 99 enviando un conteo total de = 78768 al proceso 0\n",
            "Proceso 85 enviando un conteo total de = 78974 al proceso 0\n",
            "Proceso 41 enviando un conteo total de = 78524 al proceso 0\n",
            "Proceso 81 enviando un conteo total de = 78544 al proceso 0\n",
            "Proceso 43 enviando un conteo total de = 78725 al proceso 0\n",
            "Proceso 74 enviando un conteo total de = 78499 al proceso 0\n",
            "Proceso 26 enviando un conteo total de = 78720 al proceso 0\n",
            "Proceso 1 enviando un conteo total de = 78538 al proceso 0\n",
            "Proceso 2 enviando un conteo total de = 78346 al proceso 0\n",
            "Proceso 3 enviando un conteo total de = 78510 al proceso 0\n",
            "Proceso 6 enviando un conteo total de = 78633 al proceso 0\n",
            "Proceso 7 enviando un conteo total de = 78437 al proceso 0\n",
            "Proceso 9 enviando un conteo total de = 78560 al proceso 0\n",
            "Proceso 10 enviando un conteo total de = 78537 al proceso 0\n",
            "Proceso 11 enviando un conteo total de = 78521 al proceso 0\n",
            "Proceso 12 enviando un conteo total de = 78492 al proceso 0\n",
            "Proceso 13 enviando un conteo total de = 78640 al proceso 0\n",
            "Proceso 14 enviando un conteo total de = 78424 al proceso 0\n",
            "Proceso 17 enviando un conteo total de = 78655 al proceso 0\n",
            "Proceso 18 enviando un conteo total de = 78455 al proceso 0\n",
            "Proceso 20 enviando un conteo total de = 78490 al proceso 0\n",
            "Proceso 21 enviando un conteo total de = 78453 al proceso 0\n",
            "Proceso 22 enviando un conteo total de = 78691 al proceso 0\n",
            "Proceso 23 enviando un conteo total de = 78807 al proceso 0\n",
            "Proceso 24 enviando un conteo total de = 78600 al proceso 0\n",
            "Proceso 27 enviando un conteo total de = 78566 al proceso 0\n",
            "Proceso 28 enviando un conteo total de = 78575 al proceso 0\n",
            "Proceso 29 enviando un conteo total de = 78469 al proceso 0\n",
            "Proceso 30 enviando un conteo total de = 78412 al proceso 0\n",
            "Proceso 31 enviando un conteo total de = 78483 al proceso 0\n",
            "Proceso 32 enviando un conteo total de = 78546 al proceso 0\n",
            "Proceso 33 enviando un conteo total de = 78461 al proceso 0\n",
            "Proceso 34 enviando un conteo total de = 78665 al proceso 0\n",
            "Proceso 35 enviando un conteo total de = 78320 al proceso 0\n",
            "Proceso 37 enviando un conteo total de = 78783 al proceso 0\n",
            "Proceso 40 enviando un conteo total de = 78682 al proceso 0\n",
            "Proceso 42 enviando un conteo total de = 78435 al proceso 0\n",
            "Proceso 44 enviando un conteo total de = 78522 al proceso 0\n",
            "Proceso 47 enviando un conteo total de = 78806 al proceso 0\n",
            "Proceso 48 enviando un conteo total de = 78811 al proceso 0\n",
            "Proceso 50 enviando un conteo total de = 78627 al proceso 0\n",
            "Proceso 52 enviando un conteo total de = 78442 al proceso 0\n",
            "Proceso 53 enviando un conteo total de = 78511 al proceso 0\n",
            "Proceso 55 enviando un conteo total de = 78779 al proceso 0\n",
            "Proceso 56 enviando un conteo total de = 78576 al proceso 0\n",
            "Proceso 57 enviando un conteo total de = 78818 al proceso 0\n",
            "Proceso 58 enviando un conteo total de = 78789 al proceso 0\n",
            "Proceso 59 enviando un conteo total de = 78327 al proceso 0\n",
            "Proceso 61 enviando un conteo total de = 78339 al proceso 0\n",
            "Proceso 63 enviando un conteo total de = 78748 al proceso 0\n",
            "Proceso 65 enviando un conteo total de = 78676 al proceso 0\n",
            "Proceso 66 enviando un conteo total de = 78490 al proceso 0\n",
            "Proceso 67 enviando un conteo total de = 78512 al proceso 0\n",
            "Proceso 68 enviando un conteo total de = 78515 al proceso 0\n",
            "Proceso 70 enviando un conteo total de = 78187 al proceso 0\n",
            "Proceso 71 enviando un conteo total de = 78461 al proceso 0\n",
            "Proceso 72 enviando un conteo total de = 78708 al proceso 0\n",
            "Proceso 76 enviando un conteo total de = 78421 al proceso 0\n",
            "Proceso 77 enviando un conteo total de = 78776 al proceso 0\n",
            "Proceso 78 enviando un conteo total de = 78547 al proceso 0\n",
            "Proceso 79 enviando un conteo total de = 78479 al proceso 0\n",
            "Proceso 80 enviando un conteo total de = 78318 al proceso 0\n",
            "Proceso 82 enviando un conteo total de = 78533 al proceso 0\n",
            "Proceso 83 enviando un conteo total de = 78441 al proceso 0\n",
            "Proceso 84 enviando un conteo total de = 78663 al proceso 0\n",
            "Proceso 86 enviando un conteo total de = 78543 al proceso 0\n",
            "Proceso 87 enviando un conteo total de = 78325 al proceso 0\n",
            "Proceso 88 enviando un conteo total de = 78497 al proceso 0\n",
            "Proceso 90 enviando un conteo total de = 78655 al proceso 0\n",
            "Proceso 91 enviando un conteo total de = 78475 al proceso 0\n",
            "Proceso 93 enviando un conteo total de = 78422 al proceso 0\n",
            "Proceso 95 enviando un conteo total de = 78564 al proceso 0\n",
            "Proceso 96 enviando un conteo total de = 78542 al proceso 0\n",
            "Proceso 36 enviando un conteo total de = 78304 al proceso 0\n",
            "Cantidad de Iteraciones = 9900000, Pi estimado: 3.14182 \n",
            "Proceso 4 enviando un conteo total de = 78481 al proceso 0\n",
            "Proceso 5 enviando un conteo total de = 78762 al proceso 0\n",
            "Proceso 25 enviando un conteo total de = 78401 al proceso 0\n",
            "Proceso 46 enviando un conteo total de = 78531 al proceso 0\n",
            "\n",
            "real\t0m12.820s\n",
            "user\t0m14.893s\n",
            "sys\t0m9.967s\n"
          ]
        }
      ]
    },
    {
      "cell_type": "code",
      "metadata": {
        "colab": {
          "base_uri": "https://localhost:8080/"
        },
        "id": "PtxKVVboGJx0",
        "outputId": "f883b5e5-4aff-4f4d-8cf7-88143ba5576c"
      },
      "source": [
        "!time mpirun --allow-run-as-root -np 500 montecarlo_pi  "
      ],
      "execution_count": 12,
      "outputs": [
        {
          "output_type": "stream",
          "name": "stdout",
          "text": [
            "^C\n"
          ]
        }
      ]
    }
  ]
}