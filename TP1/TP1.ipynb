{
  "nbformat": 4,
  "nbformat_minor": 0,
  "metadata": {
    "colab": {
      "name": "TP1.ipynb",
      "provenance": [],
      "collapsed_sections": [],
      "authorship_tag": "ABX9TyNSMfX1+Z733doKpN9dyomk"
    },
    "kernelspec": {
      "name": "python3",
      "display_name": "Python 3"
    },
    "language_info": {
      "name": "python"
    }
  },
  "cells": [
    {
      "cell_type": "markdown",
      "metadata": {
        "id": "iSJ1kDGZpCAQ"
      },
      "source": [
        "1)_\n",
        "\n",
        "  \n",
        "\n",
        "> ii. Usando 3 subplots, graficar en Python\n",
        "\n",
        "*   Las soluciones exactas y aproximadas \n",
        "*   El error global\n",
        "*   El error local\n"
      ]
    },
    {
      "cell_type": "code",
      "metadata": {
        "colab": {
          "base_uri": "https://localhost:8080/"
        },
        "id": "SJu44daWo6U7",
        "outputId": "bf399d26-e229-430b-8823-c24a3d30feff"
      },
      "source": [
        "import numpy as np\n",
        "import matplotlib.pyplot as plt\n",
        "\n",
        "#Solucion exacta de la funcion a)\n",
        "def y(t):\n",
        "  return t*np.log(t) +2*t\n",
        "\n",
        "def y_prima(t):\n",
        "  return 1+(y/t)\n",
        "\n"
      ],
      "execution_count": null,
      "outputs": [
        {
          "output_type": "stream",
          "text": [
            "[2.0, 3.6081976621622465, 5.386294361119891]\n"
          ],
          "name": "stdout"
        }
      ]
    },
    {
      "cell_type": "markdown",
      "metadata": {
        "id": "csfYhX9xCcg1"
      },
      "source": [
        "\n",
        "\n",
        "> iii. Implementar todos los métodos del apartado i) en Python. Evalué ambos PVI con valores de h de 10-2, 10-3 y 10-4."
      ]
    },
    {
      "cell_type": "code",
      "metadata": {
        "id": "7FAGoRUMCrE0",
        "colab": {
          "base_uri": "https://localhost:8080/",
          "height": 283
        },
        "outputId": "b530e601-7f42-469d-f78d-d13e0321d687"
      },
      "source": [
        "#METODO DE RUNGE-KUTTA\n",
        "\n",
        "import math\n",
        "import numpy as np\n",
        "import matplotlib.pyplot as plt\n",
        "\n",
        "def runge_kutta(y, x, dx, f):\n",
        "    \"\"\" y es el valor inicial para y\n",
        "        x es el valor inicial para x\n",
        "        dx es el paso de tiempo de x\n",
        "        f es la derivada de la funcion y(t)\n",
        "    \"\"\"\n",
        "    k1 = dx * f(y, t)\n",
        "    k2 = dx * f(y + 0.5 * k1, x + 0.5 * dx)\n",
        "    k3 = dx * f(y + 0.5 * k2, x + 0.5 * dx)\n",
        "    k4 = dx * f(y + k3, x + dx)\n",
        "    return y + (k1 + 2 * k2 + 2 * k3 + k4) / 6.\n",
        "\n",
        "\n",
        "def func(y, t): return t * math.sqrt(y)\n",
        "\n",
        "\n",
        "t = 0.\n",
        "y = 1.\n",
        "dt = .1\n",
        "ys, ts = [], []\n",
        "    \n",
        "while t <= 10:\n",
        "  y = runge_kutta(y, t, dt, func)\n",
        "  t += dt\n",
        "  ys.append(y)\n",
        "  ts.append(t)\n",
        "\n",
        "\n",
        "#Realizo las graficas\n",
        "exact = [(t ** 2 + 4) ** 2 / 16. for t in ts]\n",
        "plt.plot(ts, ys, label='runge_kutta')\n",
        "plt.plot(ts, exact, label='exact')\n",
        "plt.legend()\n",
        "plt.show()\n",
        "error = np.array(exact) - np.array(ys)\n",
        "print(\"max error {:.5f}\".format(max(error)))"
      ],
      "execution_count": null,
      "outputs": [
        {
          "output_type": "display_data",
          "data": {
            "image/png": "[encoded data removed]",
            "text/plain": [
              "<Figure size 432x288 with 1 Axes>"
            ]
          },
          "metadata": {
            "needs_background": "light"
          }
        },
        {
          "output_type": "stream",
          "text": [
            "max error 0.00005\n"
          ],
          "name": "stdout"
        }
      ]
    },
    {
      "cell_type": "code",
      "metadata": {
        "colab": {
          "base_uri": "https://localhost:8080/",
          "height": 486
        },
        "id": "uexKdB7oH3AQ",
        "outputId": "9d676775-fe63-45fc-8656-5f41fcfb38ef"
      },
      "source": [
        "#METODO DE RUNGE-KUTTA 2\n",
        "\n",
        "import numpy as np\n",
        "\n",
        "import matplotlib.pyplot as plt\n",
        "\n",
        "def rungekutta2(d1y,x0,y0,h,muestras):\n",
        "    tamano   = muestras + 1\n",
        "    estimado = np.zeros(shape=(tamano,2),dtype=float)\n",
        "    # incluye el punto [x0,y0]\n",
        "    estimado[0] = [x0,y0]\n",
        "    xi = x0\n",
        "    yi = y0\n",
        "    for i in range(1,tamano,1):\n",
        "        K1 = h * y_prima(xi,yi)\n",
        "        K2 = h * y_prima(xi+h, yi + K1)\n",
        "\n",
        "        yi = yi + (K1+K2)/2\n",
        "        xi = xi + h\n",
        "        \n",
        "        estimado[i] = [xi,yi]\n",
        "    return(estimado)\n",
        "\n",
        "#Solucion exacta de la funcion a)\n",
        "def y(t):\n",
        "  return t*np.log(t) +2*t\n",
        "\n",
        "def y_prima(t,y):\n",
        "  return 1+(y/t)\n",
        "\n",
        "# INGRESO\n",
        "x0 = 1\n",
        "y0 = 2\n",
        "h  = 10**(-2)\n",
        "muestras = 5\n",
        "\n",
        "# PROCEDIMIENTO\n",
        "puntosRK2 = rungekutta2(y_prima(x0,y0),x0,y0,h,muestras)\n",
        "xi = puntosRK2[:,0]\n",
        "yiRK2 = puntosRK2[:,1]\n",
        "\n",
        "# SALIDA\n",
        "print('estimado[xi,yi]')\n",
        "print(puntosRK2)\n",
        "\n",
        "\n",
        "# ERROR vs solución conocida\n",
        "\"\"\"\n",
        "y_sol = lambda x: ((np.e)**x) + x + x**2\n",
        "\"\"\"\n",
        "yi_psol  = y(xi) #Solucion conocida\n",
        "errores  = yi_psol - yiRK2 #Error Global\n",
        "errormax = np.max(np.abs(errores)) #Error Maximo\n",
        "\n",
        "print('Error máximo estimado: ',errormax)\n",
        "print('entre puntos: ')\n",
        "print(errores)\n",
        "# SALIDA\n",
        "\"\"\"\n",
        "print('Error máximo estimado: ',errormax)\n",
        "print('entre puntos: ')\n",
        "print(errores)\n",
        "\"\"\"\n",
        "# GRAFICA [a,b+2*h]\n",
        "a = x0\n",
        "b = h*muestras+2*h\n",
        "muestreo = 10*muestras+2\n",
        "xis = np.linspace(a,b,muestreo)\n",
        "yis = y(xis)\n",
        "\n",
        "\n",
        "# Gráfica\n",
        "plt.plot(xis,yis, label='y conocida')\n",
        "plt.plot(xi[0],yiRK2[0],'o',color='r', label ='[x0,y0]')\n",
        "plt.plot(xi[1:],yiRK2[1:],'o',color='m',label ='y Runge-Kutta 2 Orden')\n",
        "\n",
        "plt.title('EDO: Solución con Runge-Kutta 2do Orden')\n",
        "plt.xlabel('x')\n",
        "plt.ylabel('y')\n",
        "plt.legend()\n",
        "plt.grid()\n",
        "plt.show()"
      ],
      "execution_count": null,
      "outputs": [
        {
          "output_type": "stream",
          "name": "stdout",
          "text": [
            "estimado[xi,yi]\n",
            "[[1.         2.        ]\n",
            " [1.01       2.0300495 ]\n",
            " [1.02       2.06019802]\n",
            " [1.03       2.09044459]\n",
            " [1.04       2.12078824]\n",
            " [1.05       2.15122806]]\n",
            "Error máximo estimado:  1.6150858082042419e-06\n",
            "entre puntos: \n",
            "[0.00000000e+00 3.29211205e-07 6.55234750e-07 9.78163026e-07\n",
            " 1.29808488e-06 1.61508581e-06]\n"
          ]
        },
        {
          "output_type": "display_data",
          "data": {
            "image/png": "[encoded data removed]",
            "text/plain": [
              "<Figure size 432x288 with 1 Axes>"
            ]
          },
          "metadata": {
            "needs_background": "light"
          }
        }
      ]
    },
    {
      "cell_type": "code",
      "metadata": {
        "id": "MXmA3hZAM8dj",
        "colab": {
          "base_uri": "https://localhost:8080/",
          "height": 469
        },
        "outputId": "1d1446ec-a50d-44ad-fd90-75add96a1103"
      },
      "source": [
        "#Solucion exacta de la funcion b)\n",
        "def y(t):\n",
        "  return t*-np.exp(-5*t)\n",
        "\n",
        "def y_prima(t,y):\n",
        "  return 5*np.exp(5*t)*(y-t)**(2)+1\n",
        "\n",
        "# INGRESO\n",
        "x0 = 0\n",
        "y0 = -1\n",
        "h  = 10**(-2)\n",
        "muestras = 5\n",
        "\n",
        "# PROCEDIMIENTO\n",
        "puntosRK2 = rungekutta2(y_prima(x0,y0),x0,y0,h,muestras)\n",
        "xi = puntosRK2[:,0]\n",
        "yiRK2 = puntosRK2[:,1]\n",
        "\n",
        "# SALIDA\n",
        "print('estimado[xi,yi]')\n",
        "print(puntosRK2)\n",
        "\n",
        "\n",
        "# ERROR vs solución conocida\n",
        "\n",
        "yi_psol  = y(xi) #Solucion conocida\n",
        "errores  = yi_psol - yiRK2 #Error Global\n",
        "errormax = np.max(np.abs(errores)) #Error Maximo\n",
        "\n",
        "print('Error máximo estimado: ',errormax)\n",
        "print('entre puntos: ')\n",
        "print(errores)\n",
        "# SALIDA\n",
        "\n",
        "# GRAFICA [a,b+2*h]\n",
        "a = x0\n",
        "b = h*muestras+2*h\n",
        "muestreo = 10*muestras+2\n",
        "xis = np.linspace(a,b,muestreo)\n",
        "yis = (xis)\n",
        "\n",
        "# Gráfica\n",
        "#plt.subplot()\n",
        "plt.plot(xis,yis, label='y conocida')\n",
        "plt.plot(xi[0],yiRK2[0],'o',color='r', label ='[x0,y0]')\n",
        "plt.plot(xi[1:],yiRK2[1:],'o',color='m',label ='y Runge-Kutta 2 Orden')\n",
        "\n",
        "plt.title('EDO: Solución con Runge-Kutta 2do Orden')\n",
        "plt.xlabel('x')\n",
        "plt.ylabel('y')\n",
        "plt.legend()\n",
        "plt.grid()\n",
        "plt.show()"
      ],
      "execution_count": null,
      "outputs": [
        {
          "output_type": "stream",
          "name": "stdout",
          "text": [
            "estimado[xi,yi]\n",
            "[[ 0.         -1.        ]\n",
            " [ 0.01       -0.9412807 ]\n",
            " [ 0.02       -0.88493259]\n",
            " [ 0.03       -0.83084051]\n",
            " [ 0.04       -0.77889483]\n",
            " [ 0.05       -0.72899126]]\n",
            "Error máximo estimado:  1.0\n",
            "entre puntos: \n",
            "[1.         0.9317684  0.86683584 0.80501927 0.7461456  0.69005122]\n"
          ]
        },
        {
          "output_type": "display_data",
          "data": {
            "image/png": "[encoded data removed]",
            "text/plain": [
              "<Figure size 432x288 with 1 Axes>"
            ]
          },
          "metadata": {
            "needs_background": "light"
          }
        }
      ]
    },
    {
      "cell_type": "markdown",
      "metadata": {
        "id": "Tiaajzvq1x_c"
      },
      "source": [
        "\n",
        "2.   Investigue sobre los métodos para resolver ecuaciones diferenciales ordinarias implementados en la librería **scipy.interpolate** de Python, y explique en que se basan cada uno de estos algoritmos. Elija y justifique cual método es el apropiado para resolver los siguientes problemas de valor inicial: "
      ]
    },
    {
      "cell_type": "code",
      "metadata": {
        "id": "1LcOwGwfNW8V"
      },
      "source": [
        ""
      ],
      "execution_count": null,
      "outputs": []
    },
    {
      "cell_type": "markdown",
      "metadata": {
        "id": "XykoHW_I2TYo"
      },
      "source": [
        "\n",
        "\n",
        "\n",
        "\n",
        "\n",
        "> *Rta: Esta libreria contiene funciones para poder resolver Ecuaciones diferenciales en forma numérica con Python, particularmente los dos solucionadores de ecuaciones diferenciales ordinarias, **integrate.odeint** y **integrate.ode**. La principal diferencia entre ambos, es que integrate.ode es más flexible, ya que nos ofrece la posibilidad de elegir entre distintos solucionadores. *\n",
        "\n",
        "\n",
        "\n",
        "\n",
        "\n"
      ]
    }
  ]
}