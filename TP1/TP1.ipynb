{
  "nbformat": 4,
  "nbformat_minor": 0,
  "metadata": {
    "colab": {
      "name": "TP1.ipynb",
      "provenance": [],
      "collapsed_sections": [],
      "authorship_tag": "ABX9TyOGU0z34wNR6EaLnxkcUZH7"
    },
    "kernelspec": {
      "name": "python3",
      "display_name": "Python 3"
    },
    "language_info": {
      "name": "python"
    }
  },
  "cells": [
    {
      "cell_type": "markdown",
      "metadata": {
        "id": "iSJ1kDGZpCAQ"
      },
      "source": [
        "1)_\n",
        "\n",
        "  \n",
        "\n",
        "> ii. Usando 3 subplots, graficar en Python\n",
        "\n",
        "*   Las soluciones exactas y aproximadas \n",
        "*   El error global\n",
        "*   El error local\n"
      ]
    },
    {
      "cell_type": "code",
      "metadata": {
        "colab": {
          "base_uri": "https://localhost:8080/"
        },
        "id": "SJu44daWo6U7",
        "outputId": "bf399d26-e229-430b-8823-c24a3d30feff"
      },
      "source": [
        "import numpy as np\n",
        "import matplotlib.pyplot as plt\n",
        "\n",
        "#Solucion exacta de la funcion a)\n",
        "def y(t):\n",
        "  return t*np.log(t) +2*t\n",
        "\n",
        "def y_prima(t):\n",
        "  return 1+(y/t)\n",
        "\n",
        "\n",
        "#Intervalos\n",
        "a=1\n",
        "b=2\n",
        "h=(b-a)/2 #Punto de paso\n",
        "\n",
        "y_verdadero=[]\n",
        "#y_aprox=0\n",
        "\n",
        "t=a\n",
        "\n",
        "while a<=t and t<=b:\n",
        "  y_verdadero.append(y(t))\n",
        "  t+=h\n",
        "\n",
        "print(y_verdadero)\n",
        "\n",
        "\n"
      ],
      "execution_count": null,
      "outputs": [
        {
          "output_type": "stream",
          "text": [
            "[2.0, 3.6081976621622465, 5.386294361119891]\n"
          ],
          "name": "stdout"
        }
      ]
    },
    {
      "cell_type": "markdown",
      "metadata": {
        "id": "csfYhX9xCcg1"
      },
      "source": [
        "\n",
        "\n",
        "> iii. Implementar todos los métodos del apartado i) en Python. Evalué ambos PVI con valores de h de 10-2, 10-3 y 10-4."
      ]
    },
    {
      "cell_type": "code",
      "metadata": {
        "id": "7FAGoRUMCrE0",
        "outputId": "b530e601-7f42-469d-f78d-d13e0321d687",
        "colab": {
          "base_uri": "https://localhost:8080/",
          "height": 283
        }
      },
      "source": [
        "#METODO DE RUNGE-KUTTA\n",
        "\n",
        "import math\n",
        "import numpy as np\n",
        "import matplotlib.pyplot as plt\n",
        "\n",
        "def runge_kutta(y, x, dx, f):\n",
        "    \"\"\" y es el valor inicial para y\n",
        "        x es el valor inicial para x\n",
        "        dx es el paso de tiempo de x\n",
        "        f es la derivada de la funcion y(t)\n",
        "    \"\"\"\n",
        "    k1 = dx * f(y, t)\n",
        "    k2 = dx * f(y + 0.5 * k1, x + 0.5 * dx)\n",
        "    k3 = dx * f(y + 0.5 * k2, x + 0.5 * dx)\n",
        "    k4 = dx * f(y + k3, x + dx)\n",
        "    return y + (k1 + 2 * k2 + 2 * k3 + k4) / 6.\n",
        "\n",
        "\n",
        "def func(y, t): return t * math.sqrt(y)\n",
        "\n",
        "\n",
        "t = 0.\n",
        "y = 1.\n",
        "dt = .1\n",
        "ys, ts = [], []\n",
        "    \n",
        "while t <= 10:\n",
        "  y = runge_kutta(y, t, dt, func)\n",
        "  t += dt\n",
        "  ys.append(y)\n",
        "  ts.append(t)\n",
        "\n",
        "\n",
        "#Realizo las graficas\n",
        "exact = [(t ** 2 + 4) ** 2 / 16. for t in ts]\n",
        "plt.plot(ts, ys, label='runge_kutta')\n",
        "plt.plot(ts, exact, label='exact')\n",
        "plt.legend()\n",
        "plt.show()\n",
        "error = np.array(exact) - np.array(ys)\n",
        "print(\"max error {:.5f}\".format(max(error)))"
      ],
      "execution_count": 2,
      "outputs": [
        {
          "output_type": "display_data",
          "data": {
            "image/png": "[encoded data removed]",
            "text/plain": [
              "<Figure size 432x288 with 1 Axes>"
            ]
          },
          "metadata": {
            "needs_background": "light"
          }
        },
        {
          "output_type": "stream",
          "text": [
            "max error 0.00005\n"
          ],
          "name": "stdout"
        }
      ]
    }
  ]
}