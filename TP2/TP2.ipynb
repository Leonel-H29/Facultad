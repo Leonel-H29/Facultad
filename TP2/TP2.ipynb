{
  "nbformat": 4,
  "nbformat_minor": 0,
  "metadata": {
    "colab": {
      "name": "TP2.ipynb",
      "provenance": [],
      "authorship_tag": "ABX9TyM2yjMj8UeL1hltEv+a9aHr",
      "include_colab_link": true
    },
    "kernelspec": {
      "name": "python3",
      "display_name": "Python 3"
    },
    "language_info": {
      "name": "python"
    }
  },
  "cells": [
    {
      "cell_type": "markdown",
      "metadata": {
        "id": "view-in-github",
        "colab_type": "text"
      },
      "source": [
        "<a href=\"https://colab.research.google.com/github/Leonel-H29/Metodos-Numericos-II/blob/master/TP2/TP2.ipynb\" target=\"_parent\"><img src=\"https://colab.research.google.com/assets/colab-badge.svg\" alt=\"Open In Colab\"/></a>"
      ]
    },
    {
      "cell_type": "markdown",
      "metadata": {
        "id": "RpJAkLfnNvrL"
      },
      "source": [
        "#PUNTO 1"
      ]
    },
    {
      "cell_type": "code",
      "metadata": {
        "id": "rTnhYY7qNqZj"
      },
      "source": [
        "\n",
        "x=[0,5,10,15,20,25]\n",
        "v=[0,9.85,14.32,17.63,19.34,22.41]\n",
        "\n",
        "n=len(x) #Cantidad de puntos\n",
        "x_cuadrado=[n**2 for n in x] #Elevo al cuadrado los elementos de x\n",
        "y=[n**2 for n in v] #Elevo al cuadrado los elementos de v\n",
        "xy=[x*y for x,y in zip(x,y)] #Multiplico cada elemento entre x e y\n",
        "\n",
        "#print(x_cuadrado)\n",
        "#print(y)\n",
        "#print(xy)\n",
        "\n",
        "sumatoria_x=sum(x)\n",
        "sumatoria_y=sum(y)\n",
        "sumatoria_xy=sum(xy)\n",
        "sumatoria_x_cuadrado=sum(x_cuadrado)\n",
        "#print(f\"{sumatoria_x}-{sumatoria_y}-{sumatoria_xy}-{sumatoria_x_cuadrado}\")\n",
        "a1=(n*sumatoria_xy-sumatoria_x*sumatoria_y)/(n*sumatoria_x_cuadrado-sumatoria_x**2)\n",
        "print(f\"a1: {a1}\")"
      ],
      "execution_count": null,
      "outputs": []
    }
  ]
}