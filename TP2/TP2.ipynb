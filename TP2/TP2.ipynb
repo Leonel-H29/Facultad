{
  "nbformat": 4,
  "nbformat_minor": 0,
  "metadata": {
    "colab": {
      "name": "TP2.ipynb",
      "provenance": [],
      "authorship_tag": "ABX9TyPLarmjlk0FiDm40o6NkJgQ",
      "include_colab_link": true
    },
    "kernelspec": {
      "name": "python3",
      "display_name": "Python 3"
    },
    "language_info": {
      "name": "python"
    }
  },
  "cells": [
    {
      "cell_type": "markdown",
      "metadata": {
        "id": "view-in-github",
        "colab_type": "text"
      },
      "source": [
        "<a href=\"https://colab.research.google.com/github/Leonel-H29/Metodos-Numericos-II/blob/master/TP2/TP2.ipynb\" target=\"_parent\"><img src=\"https://colab.research.google.com/assets/colab-badge.svg\" alt=\"Open In Colab\"/></a>"
      ]
    },
    {
      "cell_type": "markdown",
      "metadata": {
        "id": "RpJAkLfnNvrL"
      },
      "source": [
        "#PUNTO 1"
      ]
    },
    {
      "cell_type": "code",
      "metadata": {
        "id": "rTnhYY7qNqZj",
        "colab": {
          "base_uri": "https://localhost:8080/",
          "height": 299
        },
        "outputId": "1fc16baa-c732-4f68-f4f3-6f7824d56dc2"
      },
      "source": [
        "from matplotlib import pyplot\n",
        "from numpy import arange\n",
        "import numpy as np\n",
        "\n",
        "\n",
        "#y=a1x+a0\n",
        "def reg_lineal(x,a0,a1):\n",
        "  return a1*x+a0\n",
        "\n",
        "def coef_correlacion(sr,st):\n",
        "  r_cuad=1-(sr-st)\n",
        "  r=np.sqrt(r_cuad)\n",
        "  return r\n",
        "\n",
        "x=[0,5,10,15,20,25]\n",
        "v=[0,9.85,14.32,17.63,19.34,22.41]\n",
        "\n",
        "n=len(x) #Cantidad de puntos\n",
        "x_cuadrado=[n**2 for n in x] #Elevo al cuadrado los elementos de x\n",
        "y=[n**2 for n in v] #Elevo al cuadrado los elementos de v\n",
        "xy=[x*y for x,y in zip(x,y)] #Multiplico cada elemento entre x e y\n",
        "\n",
        "#print(x_cuadrado)\n",
        "#print(y)\n",
        "#print(xy)\n",
        "\n",
        "sumatoria_x=sum(x)\n",
        "sumatoria_y=sum(y)\n",
        "sumatoria_xy=sum(xy)\n",
        "sumatoria_x_cuadrado=sum(x_cuadrado)\n",
        "#print(f\"{sumatoria_x}-{sumatoria_y}-{sumatoria_xy}-{sumatoria_x_cuadrado}\")\n",
        "\n",
        "a0=(sumatoria_x_cuadrado*sumatoria_y-sumatoria_xy*sumatoria_x)\n",
        "a0 /= (n*sumatoria_x_cuadrado-sumatoria_x**2)\n",
        "a1=(n*sumatoria_xy-sumatoria_x*sumatoria_y)\n",
        "a1 /= (n*sumatoria_x_cuadrado-sumatoria_x**2)\n",
        "\n",
        "print(f\"a0: {a0} - a1: {a1}\")\n",
        "\n",
        "\n",
        "pyplot.scatter(x, y, label='Datos')\n",
        "# Defino una secuencia de entradas entre las entradas mas pequeñas y grandes conocidas\n",
        "x_line = arange(min(x), max(x), 1)\n",
        "#Calculo la salida para el rango\n",
        "y_line = reg_lineal(x_line, a0, a1)\n",
        "\n",
        "pyplot.title(\"Regresion lineal\")\n",
        "#Creo una linea plot para la funcion de mapeo\n",
        "pyplot.plot(x_line, y_line, '--', color='red', label='Ajuste')\n",
        "pyplot.grid()\n",
        "pyplot.show()"
      ],
      "execution_count": 1,
      "outputs": [
        {
          "output_type": "stream",
          "name": "stdout",
          "text": [
            "a0: 1.9170380952382193 - a1: 19.70191028571427\n"
          ]
        },
        {
          "output_type": "display_data",
          "data": {
            "image/png": "[encoded data removed]",
            "text/plain": [
              "<Figure size 432x288 with 1 Axes>"
            ]
          },
          "metadata": {
            "needs_background": "light"
          }
        }
      ]
    },
    {
      "cell_type": "code",
      "metadata": {
        "colab": {
          "base_uri": "https://localhost:8080/",
          "height": 316
        },
        "id": "KApctlBRvMgp",
        "outputId": "27a19625-7de8-4101-9a98-b2e822fa572e"
      },
      "source": [
        "def exponencial(x, a0, a1):\n",
        "  return a1*np.exp(a0/x)\n",
        "\n",
        "\n",
        "pyplot.scatter(x, y, label='Datos')\n",
        "# Defino una secuencia de entradas entre las entradas mas pequeñas y grandes conocidas\n",
        "x_line = arange(min(x), max(x), 1)\n",
        "#Calculo la salida para el rango\n",
        "y_line = exponencial(x_line, a0, a1)\n",
        "\n",
        "pyplot.title(\"Exponencial\")\n",
        "#Creo una linea plot para la funcion de mapeo\n",
        "pyplot.plot(x_line, y_line, '--', color='red', label='Ajuste')\n",
        "pyplot.grid()\n",
        "pyplot.show()"
      ],
      "execution_count": 2,
      "outputs": [
        {
          "output_type": "stream",
          "name": "stderr",
          "text": [
            "/usr/local/lib/python3.7/dist-packages/ipykernel_launcher.py:2: RuntimeWarning: divide by zero encountered in true_divide\n",
            "  \n"
          ]
        },
        {
          "output_type": "display_data",
          "data": {
            "image/png": "[encoded data removed]",
            "text/plain": [
              "<Figure size 432x288 with 1 Axes>"
            ]
          },
          "metadata": {
            "needs_background": "light"
          }
        }
      ]
    },
    {
      "cell_type": "code",
      "metadata": {
        "id": "HKWaLJ_YRbTe",
        "outputId": "91afc159-7a30-4c44-86e8-1270d1a25f38",
        "colab": {
          "base_uri": "https://localhost:8080/",
          "height": 622
        }
      },
      "source": [
        "from scipy import optimize\n",
        "\n",
        "def cuadratica(x,a,b,c):\n",
        "  return a + b*x + c*x**2\n",
        "\n",
        "\n",
        "params , params_covariance = optimize.curve_fit(cuadratica,x,y,p0=[2,2,2])\n",
        "\n",
        "print(params)\n",
        "\n",
        "pyplot.scatter(x, y, label='datos')\n",
        "modelo = cuadratica(x, params[0], params[1], params[2])\n",
        "pyplot.plot(x, modelo  ,'--' , label='ajuste',color='red', linewidth=3)\n",
        "pyplot.title(\"Regresion cuadratica\")\n",
        "pyplot.grid()\n",
        "pyplot.show()"
      ],
      "execution_count": 8,
      "outputs": [
        {
          "output_type": "stream",
          "name": "stdout",
          "text": [
            "[ 5.16157143e-01  2.01221746e+01 -1.68105714e-02]\n"
          ]
        },
        {
          "output_type": "error",
          "ename": "TypeError",
          "evalue": "ignored",
          "traceback": [
            "\u001b[0;31m---------------------------------------------------------------------------\u001b[0m",
            "\u001b[0;31mTypeError\u001b[0m                                 Traceback (most recent call last)",
            "\u001b[0;32m<ipython-input-8-3e772ffb2756>\u001b[0m in \u001b[0;36m<module>\u001b[0;34m()\u001b[0m\n\u001b[1;32m     10\u001b[0m \u001b[0;34m\u001b[0m\u001b[0m\n\u001b[1;32m     11\u001b[0m \u001b[0mpyplot\u001b[0m\u001b[0;34m.\u001b[0m\u001b[0mscatter\u001b[0m\u001b[0;34m(\u001b[0m\u001b[0mx\u001b[0m\u001b[0;34m,\u001b[0m \u001b[0my\u001b[0m\u001b[0;34m,\u001b[0m \u001b[0mlabel\u001b[0m\u001b[0;34m=\u001b[0m\u001b[0;34m'datos'\u001b[0m\u001b[0;34m)\u001b[0m\u001b[0;34m\u001b[0m\u001b[0;34m\u001b[0m\u001b[0m\n\u001b[0;32m---> 12\u001b[0;31m \u001b[0mmodelo\u001b[0m \u001b[0;34m=\u001b[0m \u001b[0mcuadratica\u001b[0m\u001b[0;34m(\u001b[0m\u001b[0mx\u001b[0m\u001b[0;34m,\u001b[0m \u001b[0mparams\u001b[0m\u001b[0;34m[\u001b[0m\u001b[0;36m0\u001b[0m\u001b[0;34m]\u001b[0m\u001b[0;34m,\u001b[0m \u001b[0mparams\u001b[0m\u001b[0;34m[\u001b[0m\u001b[0;36m1\u001b[0m\u001b[0;34m]\u001b[0m\u001b[0;34m,\u001b[0m \u001b[0mparams\u001b[0m\u001b[0;34m[\u001b[0m\u001b[0;36m2\u001b[0m\u001b[0;34m]\u001b[0m\u001b[0;34m)\u001b[0m\u001b[0;34m\u001b[0m\u001b[0;34m\u001b[0m\u001b[0m\n\u001b[0m\u001b[1;32m     13\u001b[0m \u001b[0mpyplot\u001b[0m\u001b[0;34m.\u001b[0m\u001b[0mplot\u001b[0m\u001b[0;34m(\u001b[0m\u001b[0mx\u001b[0m\u001b[0;34m,\u001b[0m \u001b[0mmodelo\u001b[0m  \u001b[0;34m,\u001b[0m\u001b[0;34m'--'\u001b[0m \u001b[0;34m,\u001b[0m \u001b[0mlabel\u001b[0m\u001b[0;34m=\u001b[0m\u001b[0;34m'ajuste'\u001b[0m\u001b[0;34m,\u001b[0m\u001b[0mcolor\u001b[0m\u001b[0;34m=\u001b[0m\u001b[0;34m'red'\u001b[0m\u001b[0;34m,\u001b[0m \u001b[0mlinewidth\u001b[0m\u001b[0;34m=\u001b[0m\u001b[0;36m3\u001b[0m\u001b[0;34m)\u001b[0m\u001b[0;34m\u001b[0m\u001b[0;34m\u001b[0m\u001b[0m\n\u001b[1;32m     14\u001b[0m \u001b[0mpyplot\u001b[0m\u001b[0;34m.\u001b[0m\u001b[0mtitle\u001b[0m\u001b[0;34m(\u001b[0m\u001b[0;34m\"Regresion cuadratica\"\u001b[0m\u001b[0;34m)\u001b[0m\u001b[0;34m\u001b[0m\u001b[0;34m\u001b[0m\u001b[0m\n",
            "\u001b[0;32m<ipython-input-8-3e772ffb2756>\u001b[0m in \u001b[0;36mcuadratica\u001b[0;34m(x, a, b, c)\u001b[0m\n\u001b[1;32m      2\u001b[0m \u001b[0;34m\u001b[0m\u001b[0m\n\u001b[1;32m      3\u001b[0m \u001b[0;32mdef\u001b[0m \u001b[0mcuadratica\u001b[0m\u001b[0;34m(\u001b[0m\u001b[0mx\u001b[0m\u001b[0;34m,\u001b[0m\u001b[0ma\u001b[0m\u001b[0;34m,\u001b[0m\u001b[0mb\u001b[0m\u001b[0;34m,\u001b[0m\u001b[0mc\u001b[0m\u001b[0;34m)\u001b[0m\u001b[0;34m:\u001b[0m\u001b[0;34m\u001b[0m\u001b[0;34m\u001b[0m\u001b[0m\n\u001b[0;32m----> 4\u001b[0;31m   \u001b[0;32mreturn\u001b[0m \u001b[0ma\u001b[0m \u001b[0;34m+\u001b[0m \u001b[0mb\u001b[0m\u001b[0;34m*\u001b[0m\u001b[0mx\u001b[0m \u001b[0;34m+\u001b[0m \u001b[0mc\u001b[0m\u001b[0;34m*\u001b[0m\u001b[0mx\u001b[0m\u001b[0;34m**\u001b[0m\u001b[0;36m2\u001b[0m\u001b[0;34m\u001b[0m\u001b[0;34m\u001b[0m\u001b[0m\n\u001b[0m\u001b[1;32m      5\u001b[0m \u001b[0;34m\u001b[0m\u001b[0m\n\u001b[1;32m      6\u001b[0m \u001b[0;34m\u001b[0m\u001b[0m\n",
            "\u001b[0;31mTypeError\u001b[0m: can't multiply sequence by non-int of type 'numpy.float64'"
          ]
        },
        {
          "output_type": "display_data",
          "data": {
            "image/png": "[encoded data removed]",
            "text/plain": [
              "<Figure size 432x288 with 1 Axes>"
            ]
          },
          "metadata": {
            "needs_background": "light"
          }
        }
      ]
    }
  ]
}