{
  "nbformat": 4,
  "nbformat_minor": 0,
  "metadata": {
    "colab": {
      "name": "TP2.ipynb",
      "provenance": [],
      "authorship_tag": "ABX9TyOfnYRlqMeoJJXQXn1biXpG",
      "include_colab_link": true
    },
    "kernelspec": {
      "name": "python3",
      "display_name": "Python 3"
    },
    "language_info": {
      "name": "python"
    }
  },
  "cells": [
    {
      "cell_type": "markdown",
      "metadata": {
        "id": "view-in-github",
        "colab_type": "text"
      },
      "source": [
        "<a href=\"https://colab.research.google.com/github/Leonel-H29/Metodos-Numericos-II/blob/master/TP2/TP2.ipynb\" target=\"_parent\"><img src=\"https://colab.research.google.com/assets/colab-badge.svg\" alt=\"Open In Colab\"/></a>"
      ]
    },
    {
      "cell_type": "markdown",
      "metadata": {
        "id": "RpJAkLfnNvrL"
      },
      "source": [
        "#PUNTO 1"
      ]
    },
    {
      "cell_type": "code",
      "metadata": {
        "id": "rTnhYY7qNqZj",
        "colab": {
          "base_uri": "https://localhost:8080/"
        },
        "outputId": "c4e7bff7-a204-4863-a46f-6c872e2b0bd5"
      },
      "source": [
        "x=[0,5,10,15,20,25]\n",
        "v=[0,9.85,14.32,17.63,19.34,22.41]\n",
        "\n",
        "n=len(x) #Cantidad de puntos\n",
        "x_cuadrado=[n**2 for n in x] #Elevo al cuadrado los elementos de x\n",
        "y=[n**2 for n in v] #Elevo al cuadrado los elementos de v\n",
        "xy=[x*y for x,y in zip(x,y)] #Multiplico cada elemento entre x e y\n",
        "\n",
        "#print(x_cuadrado)\n",
        "#print(y)\n",
        "#print(xy)\n",
        "\n",
        "sumatoria_x=sum(x)\n",
        "sumatoria_y=sum(y)\n",
        "sumatoria_xy=sum(xy)\n",
        "sumatoria_x_cuadrado=sum(x_cuadrado)\n",
        "#print(f\"{sumatoria_x}-{sumatoria_y}-{sumatoria_xy}-{sumatoria_x_cuadrado}\")\n",
        "\n",
        "#a0=(sumatoria_x_cuadrado*sumatoria_y - sumatoria_xy*sumatoria_x)\n",
        "#a0 /= (n*sumatoria_x_cuadrado - sumatoria_x**2)\n",
        "a0 = 0\n",
        "a1=(n*sumatoria_xy - sumatoria_x*sumatoria_y)\n",
        "a1 /= (n*sumatoria_x_cuadrado - sumatoria_x**2)\n",
        "\n",
        "print(f\"a0: {a0} - a1: {a1} => F(x)= {a1}x+{a0}\")\n"
      ],
      "execution_count": 14,
      "outputs": [
        {
          "output_type": "stream",
          "name": "stdout",
          "text": [
            "a0: 0 - a1: 19.70191028571427 => F(x)= 19.70191028571427x+0\n"
          ]
        }
      ]
    },
    {
      "cell_type": "code",
      "metadata": {
        "id": "e9pzrEQ7SMyO",
        "outputId": "25c785bc-2a1c-47fd-b9ca-7166aac45052",
        "colab": {
          "base_uri": "https://localhost:8080/",
          "height": 281
        }
      },
      "source": [
        "from matplotlib import pyplot\n",
        "from numpy import arange\n",
        "import numpy as np\n",
        "\n",
        "#y=a1x+a0\n",
        "def reg_lineal(x,a0,a1):\n",
        "  return a1*x+a0\n",
        "\n",
        "def coef_correlacion(sr,st):\n",
        "  r_cuad=1-(sr-st)\n",
        "  r=np.sqrt(r_cuad)\n",
        "  return r\n",
        "\n",
        "\n",
        "pyplot.scatter(x, y)\n",
        "# Defino una secuencia de entradas entre las entradas mas pequeñas y grandes conocidas\n",
        "x_line = arange(min(x), max(x), 1)\n",
        "#Calculo la salida para el rango\n",
        "y_line = reg_lineal(x_line, a0, a1)\n",
        "\n",
        "pyplot.title(\"Regresion lineal por minimos cuadrados\")\n",
        "#Creo una linea plot para la funcion de mapeo\n",
        "pyplot.plot(x_line, y_line, '--', color='red')\n",
        "pyplot.legend(('ajuste','datos'), loc='upper left')\n",
        "pyplot.grid()\n",
        "pyplot.show()"
      ],
      "execution_count": 15,
      "outputs": [
        {
          "output_type": "display_data",
          "data": {
            "image/png": "[encoded data removed]",
            "text/plain": [
              "<Figure size 432x288 with 1 Axes>"
            ]
          },
          "metadata": {
            "needs_background": "light"
          }
        }
      ]
    },
    {
      "cell_type": "markdown",
      "metadata": {
        "id": "Kn7u-K7FbMAX"
      },
      "source": [
        "#PUNTO 2"
      ]
    },
    {
      "cell_type": "code",
      "metadata": {
        "id": "VHNbkzO_bLLw"
      },
      "source": [
        ""
      ],
      "execution_count": null,
      "outputs": []
    },
    {
      "cell_type": "code",
      "metadata": {
        "id": "AAkt8QAAWtP4"
      },
      "source": [
        ""
      ],
      "execution_count": null,
      "outputs": []
    },
    {
      "cell_type": "code",
      "metadata": {
        "id": "HKWaLJ_YRbTe",
        "colab": {
          "base_uri": "https://localhost:8080/",
          "height": 105
        },
        "outputId": "8c89ecfa-08b6-4cb2-8b55-b6687775d4bf"
      },
      "source": [
        "from scipy import optimize\n",
        "import random\n",
        "\n",
        "def cuadratica(x,a,b,c):\n",
        "  return a + b*x + c*x**2\n",
        "\n",
        "\n",
        "num_train = int(round(n*.70))\n",
        "num_test = n - num_train\n",
        "\n",
        "x_test = random.sample(x, num_test)\n",
        "x_test = np.array(x_test)\n",
        "\n",
        "print(f\"x_test: {x_test}\")\n",
        "\"\"\"\n",
        "y_test = y[x_test]\n",
        "\n",
        "x_train = np.delete(x, x_test, axis=0)\n",
        "y_train = y[x_train]\n",
        "\n",
        "params , params_covariance = optimize.curve_fit(cuadratica,x,y,p0=[2,2,2])\n",
        "\n",
        "print(params)\n",
        "\n",
        "pyplot.scatter(x_train, y_train, label='datos')\n",
        "modelo = cuadratica(x_train, params[0], params[1], params[2])\n",
        "pyplot.plot(x_train, modelo  ,'--' , label='ajuste',color='red', linewidth=3)\n",
        "pyplot.title(\"Regresion cuadratica\")\n",
        "pyplot.grid()\n",
        "pyplot.show()\n",
        "\"\"\""
      ],
      "execution_count": 7,
      "outputs": [
        {
          "output_type": "stream",
          "name": "stdout",
          "text": [
            "x_test: [20  5]\n"
          ]
        },
        {
          "output_type": "execute_result",
          "data": {
            "application/vnd.google.colaboratory.intrinsic+json": {
              "type": "string"
            },
            "text/plain": [
              "'\\ny_test = y[x_test]\\n\\nx_train = np.delete(x, x_test, axis=0)\\ny_train = y[x_train]\\n\\nparams , params_covariance = optimize.curve_fit(cuadratica,x,y,p0=[2,2,2])\\n\\nprint(params)\\n\\npyplot.scatter(x_train, y_train, label=\\'datos\\')\\nmodelo = cuadratica(x_train, params[0], params[1], params[2])\\npyplot.plot(x_train, modelo  ,\\'--\\' , label=\\'ajuste\\',color=\\'red\\', linewidth=3)\\npyplot.title(\"Regresion cuadratica\")\\npyplot.grid()\\npyplot.show()\\n'"
            ]
          },
          "metadata": {},
          "execution_count": 7
        }
      ]
    },
    {
      "cell_type": "code",
      "metadata": {
        "id": "KApctlBRvMgp"
      },
      "source": [
        "\"\"\"\n",
        "def exponencial(x, a0, a1):\n",
        "  return a1*np.exp(a0/x)\n",
        "\n",
        "\n",
        "pyplot.scatter(x, y, label='Datos')\n",
        "# Defino una secuencia de entradas entre las entradas mas pequeñas y grandes conocidas\n",
        "x_line = arange(min(x), max(x), 1)\n",
        "#Calculo la salida para el rango\n",
        "y_line = exponencial(x_line, a0, a1)\n",
        "\n",
        "pyplot.title(\"Exponencial\")\n",
        "#Creo una linea plot para la funcion de mapeo\n",
        "pyplot.plot(x_line, y_line, '--', color='red', label='Ajuste')\n",
        "pyplot.grid()\n",
        "pyplot.show()\n",
        "\"\"\""
      ],
      "execution_count": null,
      "outputs": []
    }
  ]
}